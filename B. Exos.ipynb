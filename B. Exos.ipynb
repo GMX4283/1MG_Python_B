{
 "cells": [
  {
   "cell_type": "markdown",
   "id": "d3d66939-c3ca-48e8-92ea-ca6e34b081e4",
   "metadata": {},
   "source": [
    "# Partie B - Exercices\n",
    "## Exercice 1 - Devine le nombre 7\n",
    "Remplace les \"???\" pour rendre le code fonctionnel !"
   ]
  },
  {
   "cell_type": "code",
   "execution_count": null,
   "id": "e39fa14a-a352-4843-ac62-453c1b715d7b",
   "metadata": {},
   "outputs": [],
   "source": [
    "# le nombre à deviner\n",
    "secret = 7\n",
    "# le nombre qui sera proposé par le joueur\n",
    "proposition = 0\n",
    "# tant que ... est différent de ...\n",
    "while ??? != ??? :\n",
    "    # on demande, on convertit en int et on stocke dans ...\n",
    "    ??? = int(input(\"Faux ! Essaie encore : \"))\n",
    "print(\"Bravo ! Tu as trouvé.\")"
   ]
  },
  {
   "cell_type": "markdown",
   "id": "7050698a-5994-4b41-b19e-1888fffff891",
   "metadata": {},
   "source": [
    "## Exercice 2 - Compter de 1 à 10 - While\n",
    "Écris un programme qui affiche les nombres de 1 à 10 "
   ]
  },
  {
   "cell_type": "code",
   "execution_count": null,
   "id": "ee1267cf-3983-4202-8df8-423fe824b796",
   "metadata": {},
   "outputs": [],
   "source": [
    "# créer une variable et stocker le nombre de départ\n",
    "\n",
    "# tant que la variable est inférieure ou égale à 10\n",
    "\n",
    "    # on affiche la variable (inutile d'en afficher plus)\n",
    "\n",
    "    # on ajoute un à la variable (syntaxe = variable = variable + 1 )\n",
    "    "
   ]
  },
  {
   "cell_type": "markdown",
   "id": "cc67f0f8-1b97-4a59-9b7b-40b839d3a075",
   "metadata": {},
   "source": [
    "## Exercice 3 - la table de 12 et 2025\n",
    "Écris un programme qui affiche le livret / la table jusqu'à ce que le résultat soit plus grand que 2025"
   ]
  },
  {
   "cell_type": "code",
   "execution_count": null,
   "id": "f021bfbf-ff55-4541-a1a4-48a8153fede7",
   "metadata": {},
   "outputs": [],
   "source": [
    "multiplié_par = 0\n",
    "# tant que 12 x multiplié par 'multiplié_par' est inférieur à 2025 \n",
    "\n",
    "    # ajouter 1 à \"multiplié_par\"\n",
    "\n",
    "# afficher \"on s'arrête à [multiplié_par] !\" (il faudra que la variable)\n"
   ]
  },
  {
   "cell_type": "markdown",
   "id": "6d35c07f-7308-4d96-833b-4c743aad1ac1",
   "metadata": {},
   "source": [
    "## Exercice 4 - mot de passe\n",
    "Reprend le code de l'exercice 15 (série A) et demande le mot de passe tant que l'utilisateur ne le trouve pas !"
   ]
  },
  {
   "cell_type": "code",
   "execution_count": null,
   "id": "e1474ac0-619d-49ed-a2f8-49c6c2d660cd",
   "metadata": {},
   "outputs": [],
   "source": []
  },
  {
   "cell_type": "markdown",
   "id": "ce0cf5fd-7c89-40e7-87a3-ce80e8023321",
   "metadata": {},
   "source": [
    "## Exercice 5 - Compter de 1 à 10 - For\n",
    "Écris un programme qui affiche les nombres de 1 à 10, mais avec *for* cette fois !\n",
    "- Remplace les \"??\" par une des valeurs suivantes : 1, un_nb, for, in, 10"
   ]
  },
  {
   "cell_type": "code",
   "execution_count": null,
   "id": "4dc0b54a-8fe7-44e6-99e6-f91c38a0a9a5",
   "metadata": {},
   "outputs": [],
   "source": [
    "?? ?? ?? range(??,??)\n",
    "    print(??)"
   ]
  },
  {
   "cell_type": "markdown",
   "id": "55786b29-9e07-4559-ac5d-4f825b0d7345",
   "metadata": {},
   "source": [
    "## Exercice 6 - Somme\n",
    "Écris un programme qui calcule la somme des nombres entre 1 et n.\n",
    "-  Exemple : pour n = 5, la somme sera 15 (car 1+2+3+4+5 = 15)\n",
    "-  Choisis *n* "
   ]
  },
  {
   "cell_type": "code",
   "execution_count": null,
   "id": "94ff3705-5f4f-42db-af46-029edb955b8e",
   "metadata": {},
   "outputs": [],
   "source": [
    "# défini n \n",
    "\n",
    "# défini somme\n",
    "\n",
    "# boucle for : pour chaque élément x dans la suite de nombre de 1 à n + 1 (utiliser range()!)\n",
    "\n",
    "    # ajoute x à la somme\n",
    "\n",
    "# afficher la somme finale\n"
   ]
  },
  {
   "cell_type": "markdown",
   "id": "e143230a-7237-41ff-abc7-880061a2ea8d",
   "metadata": {},
   "source": [
    "## Exercice 7 - compter les i\n",
    "Écris un programme qui compte le nombre de *i* dans le texte donné. \n",
    "- n'oublie pas de créer un compteur !\n",
    "- pour chaque lettre dans le texte...\n",
    "- teste chaque lettre dans le texte :\n",
    "- si c'est un *i* incrémente le compteur \n",
    "- après avoir tout compté, affiche le résultat"
   ]
  },
  {
   "cell_type": "code",
   "execution_count": null,
   "id": "f5263445-b5cd-4741-9ea2-6b39b7c6e93f",
   "metadata": {},
   "outputs": [],
   "source": [
    "le_texte = \"Écris un programme qui compte le nombre de *i* dans le texte donné\"\n"
   ]
  },
  {
   "cell_type": "markdown",
   "id": "6a4611ac-be99-40d7-a839-03f6ba851b31",
   "metadata": {},
   "source": [
    "## Exercice 8 - la table de 7 - For\n",
    "Écris un programme qui affiche le livret / la table de 7 jusqu'à 7x10, en utilisant *for* !"
   ]
  },
  {
   "cell_type": "code",
   "execution_count": null,
   "id": "5860fcab-471d-47de-9cce-0a17953d656b",
   "metadata": {},
   "outputs": [],
   "source": []
  },
  {
   "cell_type": "markdown",
   "id": "3027295e-9c1b-497f-851f-49c03925b15b",
   "metadata": {},
   "source": [
    "## Exercice 9 (très difficile !) - Je suis premier\n",
    "Écris un programme qui indique si un nombre donné est premier.\n",
    "- demande à l'utilisateur de saisir un nombre\n",
    "- un nombre premier est divisible (ce qui veut dire que le résultat de la division est un entier) que par lui-même et 1... \n",
    "- on peut faire des *break* pour stopper une boucle *for*\n",
    "- range peut compter en arrière : *range(... , ... , -1)*\n",
    "- penser à regarder les exemples de cours précédents :-) "
   ]
  },
  {
   "cell_type": "code",
   "execution_count": null,
   "id": "8070dbbf-0519-4adc-8cef-8b3b0ebaf6b8",
   "metadata": {},
   "outputs": [],
   "source": []
  }
 ],
 "metadata": {
  "kernelspec": {
   "display_name": "Python 3 (ipykernel)",
   "language": "python",
   "name": "python3"
  },
  "language_info": {
   "codemirror_mode": {
    "name": "ipython",
    "version": 3
   },
   "file_extension": ".py",
   "mimetype": "text/x-python",
   "name": "python",
   "nbconvert_exporter": "python",
   "pygments_lexer": "ipython3",
   "version": "3.12.6"
  }
 },
 "nbformat": 4,
 "nbformat_minor": 5
}
