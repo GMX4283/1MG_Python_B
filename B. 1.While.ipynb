{
 "cells": [
  {
   "cell_type": "markdown",
   "id": "d12f55ef-8298-47c7-9c16-55d06d663ea6",
   "metadata": {},
   "source": [
    "# Les Boucles : WHILE\n",
    "\n",
    "*while* (TANT QUE...) répète les instructions tant qu'une condition est vraie :\n",
    "\n",
    "**TANT QUE** *condition == VRAI* :\n",
    "> *instructions conditionnelles* si c'est vrai\n",
    "\n",
    "**IMPORTANT !**\\\n",
    "On va devoir faire en sorte que la condition deviennent fausses dans les instructions conditionnelles !\\\n",
    "Sinon le code ne s'arrête jamais !\\\n",
    "**Mauvais exemple** d'un code infini (appuyer sur le bouton \"stop\" en haut pour arrêter)  : "
   ]
  },
  {
   "cell_type": "code",
   "execution_count": null,
   "id": "f56c89fa-259e-4dde-95ef-109df7f67deb",
   "metadata": {},
   "outputs": [],
   "source": [
    "import time\n",
    "compte_à_rebours = 10\n",
    "\n",
    "print(\"Début du compte à rebours\")\n",
    "\n",
    "while compte_à_rebours > 0 :\n",
    "    print(compte_à_rebours)\n",
    "    time.sleep(1)\n",
    "    \n",
    "print(\"Décollage!\")"
   ]
  },
  {
   "cell_type": "markdown",
   "id": "bb451701-4c45-4420-bab2-aa738d06deca",
   "metadata": {},
   "source": [
    "Il faut donc bien penser à faire en sorte que la condition change au bout d'un moment.\\\n",
    "Ici, ligne 11, on enlève 1 à compte_à_rebours à chaque passage dans la boucle.\\\n",
    "C'est à vous d'imaginer et prévoir quand et commenter sortir de la boucle en fonction de votre besoin !"
   ]
  },
  {
   "cell_type": "code",
   "execution_count": null,
   "id": "db8e4abe-ae9f-4dbe-acb5-84139f481649",
   "metadata": {},
   "outputs": [],
   "source": [
    "import time\n",
    "compte_à_rebours = 10\n",
    "\n",
    "print(\"Début du compte à rebours\")\n",
    "\n",
    "while compte_à_rebours > 0 :\n",
    "    print(compte_à_rebours)\n",
    "    time.sleep(1)\n",
    "\n",
    "    # on enlève 1 à compte_à_rebours à chaque passage dans la boucle\n",
    "    compte_à_rebours = compte_à_rebours - 1\n",
    "    \n",
    "print(\"Décollage!\")"
   ]
  },
  {
   "cell_type": "markdown",
   "id": "9eb71c0a-b047-492d-b18c-dbd774bf7c3b",
   "metadata": {},
   "source": [
    "## Usages \n",
    "En général, on se sert de *while\" quand on va faire un nombre inconnu de répétitions.\\\n",
    "On peut par exemple demander quelque chose à l'utilisateur jusqu'à ce qu'il réponde juste :"
   ]
  },
  {
   "cell_type": "code",
   "execution_count": null,
   "id": "04377004-2351-4af0-9c8d-e45beaf51469",
   "metadata": {},
   "outputs": [],
   "source": [
    "mot = \"\"\n",
    "while \"stop\" != mot :\n",
    "    mot = input(\"écrit stop : \")\n",
    "    print(\"non, c'est faux\")\n",
    "print(\"OK, OK...\")"
   ]
  },
  {
   "cell_type": "markdown",
   "id": "68b45d65-bb77-44ff-9c5b-51c3529cd7ee",
   "metadata": {},
   "source": [
    "**IMPORTANT !**\\\n",
    "Ca peut paraître contre nature, mais il faut parfois penser à l'envers :\n",
    "- par exemple demander à l'utilisateur d'écrire \"stop\" dans la boucle et pas avant\n",
    "- il ne faut donc pas se dire \"demande le mot tant que la réponse en fausse\"...\n",
    "- mais \"tant que la réponse est fausse, demande le mot\"...\n",
    "- et penser à créer une réponse \"fausse avant\""
   ]
  },
  {
   "cell_type": "code",
   "execution_count": null,
   "id": "c7dab2d4-63f2-46c2-9334-3ad493448b12",
   "metadata": {},
   "outputs": [],
   "source": [
    "mot = \"\" # réponse fausse / vide\n",
    "while \"stop\" != mot : # tant que la réponse n'est pas celle attendue...\n",
    "    mot = input(\"écrit stop : \") # ...je demande\n",
    "    print(\"non, c'est faux\")\n",
    "print(\"OK, OK...\")"
   ]
  },
  {
   "cell_type": "markdown",
   "id": "9cbf4fa6-221a-4a0d-b41c-137504a1f9c9",
   "metadata": {},
   "source": [
    "On peut aussi utiliser *while* pour répéter des calculs jusqu'à trouver une réponse :"
   ]
  },
  {
   "cell_type": "code",
   "execution_count": null,
   "id": "b4ad03ff-525f-44b0-afe1-402609a63a30",
   "metadata": {},
   "outputs": [],
   "source": [
    "# j'ai 1 fr. dans ma tirelire\n",
    "# faut-il mieux recevoir 1000 Fr. chaque année \n",
    "# ou placer ce franc dans un placement qui rapporte 10%/an ?\n",
    "années = 0\n",
    "ma_fortune_choix_1 = 1\n",
    "ma_fortune_choix_2 = 1\n",
    "\n",
    "while ma_fortune_choix_2 <= ma_fortune_choix_1 :\n",
    "    ma_fortune_choix_2 = ma_fortune_choix_2 * 1.1\n",
    "    ma_fortune_choix_1 = ma_fortune_choix_1 + 1000\n",
    "    années = années + 1\n",
    "    \n",
    "print(\"après\",années,\"ans, le choix 2 est plus judicieux!\")\n",
    "print(ma_fortune_choix_2,\"CHF vs\",ma_fortune_choix_1,\"CHF !\")   "
   ]
  },
  {
   "cell_type": "markdown",
   "id": "63cdc154-9fb4-42e3-8a6e-d158cf0e80be",
   "metadata": {},
   "source": [
    "Comme avant, il faut bien créer les deux sommes qu'on compare AVANT la boucle, puis faire les calculs DANS la boucle !"
   ]
  }
 ],
 "metadata": {
  "kernelspec": {
   "display_name": "Python 3 (ipykernel)",
   "language": "python",
   "name": "python3"
  },
  "language_info": {
   "codemirror_mode": {
    "name": "ipython",
    "version": 3
   },
   "file_extension": ".py",
   "mimetype": "text/x-python",
   "name": "python",
   "nbconvert_exporter": "python",
   "pygments_lexer": "ipython3",
   "version": "3.12.6"
  }
 },
 "nbformat": 4,
 "nbformat_minor": 5
}
