{
 "cells": [
  {
   "cell_type": "markdown",
   "id": "fe1fb2e2-53c8-4cd5-9907-0d9a020489e5",
   "metadata": {},
   "source": [
    "# Les Boucles : FOR\n",
    "\n",
    "*for* (POUR CHAQUE...) répète les instructions autant de fois qu'il y a d'éléments dans une liste d'éléments\n",
    "\n",
    "**POUR CHAQUE** *élément Z DANS la liste Y* :\n",
    "> *instructions conditionnelles* répétées X fois \n",
    "\n",
    "**IMPORTANT !**\\\n",
    "for utilise une **variable d'itération** : C'est une variable qui change de valeur à chaque répétition / itération.\\\n",
    "Exemple :"
   ]
  },
  {
   "cell_type": "code",
   "execution_count": null,
   "id": "b428699a-04a5-48ad-942a-82b0b3f3e89a",
   "metadata": {},
   "outputs": [],
   "source": [
    "liste = [\"a\",\"b\",\"c\"]\n",
    "for element in liste : # pour chaque élément dans la liste\n",
    "    print(element) # affiche cet élément"
   ]
  },
  {
   "cell_type": "markdown",
   "id": "f4577147-9289-4ad4-95bd-cf57b22c0747",
   "metadata": {},
   "source": [
    "## Usages \n",
    "En général, on se sert de *for* quand on veut répéter quelque chose x fois.\\\n",
    "Ce X fois dépend du nombre d'élment dans la liste.\\\n",
    "La liste peut être : \n",
    "- une suite de nombre \n",
    "- un chaîne de caractères / string\n",
    "- une liste Python (comme dans l'exemple ci-dessus)\n",
    "\n",
    "### range() : créer une suite de nombre\n",
    "la fonction *range()* permet de créer une suite de nombres.\\\n",
    "On va ensuite utiliser cette suite comme liste pour notre boucle *for* afin de répéter X fois quelque chose :"
   ]
  },
  {
   "cell_type": "code",
   "execution_count": null,
   "id": "5b2e7da2-8701-4869-ae1f-9d64ee7344bc",
   "metadata": {},
   "outputs": [],
   "source": [
    "for x in range(4) : # crée une liste contenant une suite de 4 nombres : 0,1,2,3\n",
    "    print(x)"
   ]
  },
  {
   "cell_type": "code",
   "execution_count": null,
   "id": "b684ccf2-b19e-47c9-89dd-0411e982517f",
   "metadata": {},
   "outputs": [],
   "source": [
    "for x in range(5,10) : # crée une liste contenant une suite de 5 nombres : en partant de 5, jusqu'à 10 exclu : 5,6,7,8,9\n",
    "    print(x)"
   ]
  },
  {
   "cell_type": "code",
   "execution_count": null,
   "id": "e9b7eaab-7844-4bf5-9263-e90cea54eb7a",
   "metadata": {},
   "outputs": [],
   "source": [
    "for x in range(5,10,2) : # crée une liste contenant une suite de 3 nombres : en partant de 5, jusqu'à 11 exclu, et en comptant de 2 en 2 : 5,7,9\n",
    "    print(x)"
   ]
  },
  {
   "cell_type": "markdown",
   "id": "d2a22aa8-0f0a-43c3-80d1-c0e562c92818",
   "metadata": {},
   "source": [
    "Exemple plus parlant :"
   ]
  },
  {
   "cell_type": "code",
   "execution_count": null,
   "id": "46082c88-15e0-43ba-89bd-ad45a8f63143",
   "metadata": {},
   "outputs": [],
   "source": [
    "print(\"tu es de ce siècle ?\")\n",
    "for année in range(2001,2026) :\n",
    "    print(\"si tu es né.e en \", année, \", tu as\", 2025-année,\"ans\")"
   ]
  },
  {
   "cell_type": "markdown",
   "id": "ff283e45-89e1-44fa-9427-da0e0b8d239c",
   "metadata": {},
   "source": [
    "### string : passer toutes les lettres en revue\n",
    "on peut aussi utiliser *for\" sur du texte :"
   ]
  },
  {
   "cell_type": "code",
   "execution_count": 11,
   "id": "1c3a07b6-ac92-467a-8b17-13a14063402c",
   "metadata": {},
   "outputs": [
    {
     "name": "stdout",
     "output_type": "stream",
     "text": [
      "Donnez moi un L\n",
      "Donnez moi un D\n",
      "Donnez moi un D\n",
      "Donnez moi un R\n"
     ]
    }
   ],
   "source": [
    "for lettre in \"LDDR\" : \n",
    "    print(\"Donnez moi un\", lettre)"
   ]
  },
  {
   "cell_type": "markdown",
   "id": "19029d4f-43eb-48fa-bf16-abacb1d32a38",
   "metadata": {},
   "source": [
    "Exemple plus concret :"
   ]
  },
  {
   "cell_type": "code",
   "execution_count": 17,
   "id": "cd0ffd53-067b-4c64-88ea-6154b5edca0a",
   "metadata": {},
   "outputs": [
    {
     "name": "stdout",
     "output_type": "stream",
     "text": [
      "on a 8 'e' dans le texte\n",
      "soit 10.666666666666668 % des lettres (15% en FR)\n"
     ]
    }
   ],
   "source": [
    "texte = \"En général, on se sert de *for* quand on veut répéter quelque chose x fois.\"\n",
    "compteur_e = 0\n",
    "for lettre in texte : \n",
    "    if lettre == \"e\" :\n",
    "        compteur_e = compteur_e + 1\n",
    "print(\"on a\", compteur_e,\"'e' dans le texte\")\n",
    "print(\"soit\", (compteur_e/len(texte))*100, \"% des lettres (15% en FR)\" )\n",
    "    "
   ]
  }
 ],
 "metadata": {
  "kernelspec": {
   "display_name": "Python 3 (ipykernel)",
   "language": "python",
   "name": "python3"
  },
  "language_info": {
   "codemirror_mode": {
    "name": "ipython",
    "version": 3
   },
   "file_extension": ".py",
   "mimetype": "text/x-python",
   "name": "python",
   "nbconvert_exporter": "python",
   "pygments_lexer": "ipython3",
   "version": "3.12.6"
  }
 },
 "nbformat": 4,
 "nbformat_minor": 5
}
